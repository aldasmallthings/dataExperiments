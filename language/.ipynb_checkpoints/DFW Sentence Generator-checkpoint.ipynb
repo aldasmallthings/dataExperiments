{
 "cells": [
  {
   "cell_type": "code",
   "execution_count": 2,
   "metadata": {},
   "outputs": [],
   "source": [
    "import markovify\n",
    "import sys"
   ]
  },
  {
   "cell_type": "code",
   "execution_count": 11,
   "metadata": {},
   "outputs": [],
   "source": [
    "with open('./text.txt') as f:\n",
    "    text = f.read()"
   ]
  },
  {
   "cell_type": "code",
   "execution_count": 12,
   "metadata": {},
   "outputs": [],
   "source": [
    "text_model = markovify.Text(text)"
   ]
  },
  {
   "cell_type": "code",
   "execution_count": 13,
   "metadata": {},
   "outputs": [
    {
     "name": "stdout",
     "output_type": "stream",
     "text": [
      "\n",
      "In retrospect, I believe that it was a Christmas gift.\n",
      "\n",
      "What I remember feeling was an incredible temptation to ask my father would have been farther from the five-man newcomers’ room to the stumps of his wrists.\n",
      "\n",
      "“Day man, you got the time with great precision.\n",
      "\n",
      "Once when I was a resident here, Eugenio Martinez, one of the program v. who won’t, he needs to be reminded about, since she can’t read her own handwriting.\n",
      "\n",
      "I do not know the actual cliché is ‘A grateful heart will never drink.\n",
      "\n"
     ]
    }
   ],
   "source": [
    "print()\n",
    "for i in range(5):\n",
    "    print(text_model.make_sentence())\n",
    "    print()"
   ]
  }
 ],
 "metadata": {
  "kernelspec": {
   "display_name": "Python 3",
   "language": "python",
   "name": "python3"
  },
  "language_info": {
   "codemirror_mode": {
    "name": "ipython",
    "version": 3
   },
   "file_extension": ".py",
   "mimetype": "text/x-python",
   "name": "python",
   "nbconvert_exporter": "python",
   "pygments_lexer": "ipython3",
   "version": "3.7.3"
  }
 },
 "nbformat": 4,
 "nbformat_minor": 4
}
