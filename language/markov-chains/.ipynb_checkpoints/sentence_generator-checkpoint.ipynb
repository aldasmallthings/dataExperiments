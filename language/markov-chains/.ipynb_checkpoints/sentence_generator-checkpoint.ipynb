{
 "cells": [
  {
   "cell_type": "code",
   "execution_count": 29,
   "metadata": {},
   "outputs": [],
   "source": [
    "import ipywidgets as widgets\n",
    "import markovify\n",
    "import sys"
   ]
  },
  {
   "cell_type": "markdown",
   "metadata": {},
   "source": [
    "# Sentence Generator Using Markovify\n",
    "\n",
    "Swag out the writing style of some of these classic writers! Between **Jane Austen**, **Walt Whitman**, **David Forster Wallace** and **Lewis Carroll**, whose ramblings will you enjoy most?"
   ]
  },
  {
   "cell_type": "code",
   "execution_count": 46,
   "metadata": {},
   "outputs": [
    {
     "name": "stdout",
     "output_type": "stream",
     "text": [
      "whose style would you like the generator to use?\n"
     ]
    },
    {
     "data": {
      "application/vnd.jupyter.widget-view+json": {
       "model_id": "9ec746f920744ade831570fc44d15b4b",
       "version_major": 2,
       "version_minor": 0
      },
      "text/plain": [
       "Dropdown(options=('austen', 'whitman', 'wallace', 'carroll'), value='austen')"
      ]
     },
     "metadata": {},
     "output_type": "display_data"
    }
   ],
   "source": [
    "print(\"whose style would you like the generator to use?\")\n",
    "\n",
    "artist_picker = widgets.Dropdown(\n",
    "    options=['austen', 'whitman','wallace','carroll'],\n",
    "    disabled=False,\n",
    ")\n",
    "\n",
    "display(artist_picker)"
   ]
  },
  {
   "cell_type": "code",
   "execution_count": 47,
   "metadata": {},
   "outputs": [],
   "source": [
    "with open('./%s/text.txt' %(artist_picker.value)) as f:\n",
    "    text = f.read()"
   ]
  },
  {
   "cell_type": "code",
   "execution_count": 48,
   "metadata": {},
   "outputs": [],
   "source": [
    "text_model = markovify.Text(text)"
   ]
  },
  {
   "cell_type": "code",
   "execution_count": 50,
   "metadata": {},
   "outputs": [
    {
     "name": "stdout",
     "output_type": "stream",
     "text": [
      "~~~~~~~~~~~~~~~~~~~~~~~ Here come the giggles\n",
      "\n",
      "\n",
      "“I am sorry, exceedingly sorry,” replied Darcy, in a tolerably powerful feeling towards Mr. Wickham.\n",
      "\n",
      "But he found, in reply to her work, with an embarrassment impossible to be seen.\n",
      "\n",
      "On Tuesday there was a want of penetration, or fear that the Miss Bennets would have shared in their censure of _her_, in spite of that interruption, she soon found that it will hardly hold good.\n",
      "\n",
      "Elizabeth thanked him from the road, which led farther from the influence of friendship and affection.\n",
      "\n",
      "“Merely to the silent contempt of the country was nothing remarkable, and who was complimenting Mr. Bingley by a little detached from the brother should have turned in a very good luck, for I suppose you would have been understood only by herself, soon went away.\n",
      "\n"
     ]
    }
   ],
   "source": [
    "print(\"~~~~~~~~~~~~~~~~~~~~~~~ Here comes the longform giggles\")\n",
    "print()\n",
    "print()\n",
    "for i in range(5):\n",
    "    print(text_model.make_sentence())\n",
    "    print()"
   ]
  },
  {
   "cell_type": "code",
   "execution_count": null,
   "metadata": {},
   "outputs": [],
   "source": []
  }
 ],
 "metadata": {
  "kernelspec": {
   "display_name": "Python 3",
   "language": "python",
   "name": "python3"
  },
  "language_info": {
   "codemirror_mode": {
    "name": "ipython",
    "version": 3
   },
   "file_extension": ".py",
   "mimetype": "text/x-python",
   "name": "python",
   "nbconvert_exporter": "python",
   "pygments_lexer": "ipython3",
   "version": "3.7.3"
  }
 },
 "nbformat": 4,
 "nbformat_minor": 4
}
