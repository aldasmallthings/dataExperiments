{
 "cells": [
  {
   "cell_type": "code",
   "execution_count": 2,
   "metadata": {},
   "outputs": [],
   "source": [
    "import ipywidgets as widgets\n",
    "import markovify\n",
    "import sys"
   ]
  },
  {
   "cell_type": "markdown",
   "metadata": {},
   "source": [
    "# Sentence Generator Using Markovify\n",
    "\n",
    "Let's put Markov chains to the task. Can it be used to replicate Jane Austen's fabulous angsty style? Read some never published, on-the-fly generated content by some of these great writers! Between **Jane Austen**, **Walt Whitman**, **David Forster Wallace** and **Lewis Carroll**, whose ramblings will you enjoy most?"
   ]
  },
  {
   "cell_type": "code",
   "execution_count": 3,
   "metadata": {},
   "outputs": [
    {
     "name": "stdout",
     "output_type": "stream",
     "text": [
      "whose style would you like the generator to use?\n"
     ]
    },
    {
     "data": {
      "application/vnd.jupyter.widget-view+json": {
       "model_id": "9a28030b3ef8425da802bd99c2557585",
       "version_major": 2,
       "version_minor": 0
      },
      "text/plain": [
       "Dropdown(options=('austen', 'whitman', 'wallace', 'carroll'), value='austen')"
      ]
     },
     "metadata": {},
     "output_type": "display_data"
    }
   ],
   "source": [
    "print(\"whose style would you like the generator to use?\")\n",
    "\n",
    "artist_picker = widgets.Dropdown(\n",
    "    options=['austen', 'whitman','wallace','carroll'],\n",
    "    disabled=False,\n",
    ")\n",
    "\n",
    "display(artist_picker)"
   ]
  },
  {
   "cell_type": "code",
   "execution_count": 8,
   "metadata": {},
   "outputs": [],
   "source": [
    "with open('./%s/text.txt' %(artist_picker.value)) as f:\n",
    "    text = f.read()"
   ]
  },
  {
   "cell_type": "code",
   "execution_count": 9,
   "metadata": {},
   "outputs": [],
   "source": [
    "text_model = markovify.Text(text)"
   ]
  },
  {
   "cell_type": "code",
   "execution_count": 10,
   "metadata": {},
   "outputs": [
    {
     "name": "stdout",
     "output_type": "stream",
     "text": [
      "~~~~~~~~~~~~~~~~~~~~~~~ Here comes the longform giggles\n",
      "\n",
      "\n",
      "There is a little boy I received as a traumatic obsession with the smooth immovability of an old Reader’s Digest or Saturday Evening Post.\n",
      "\n",
      "Evidence bore out what they saw and suffered over was wholly different from the Disease “dis-ease,” which sums the basic situation up nicely.\n",
      "\n",
      "Plus Geoffrey D. now alleges it never happened: his story is he just strolled into Ennet House—that Lenz is a newcomer and still very raw.\n",
      "\n",
      "The “magic” was that, unbeknown to me, as I remember, were thin metal rods.\n",
      "\n",
      "The nail parings in the paint of the drunks and trank-jockeys stay up most of a scholarly quarterly.\n",
      "\n"
     ]
    }
   ],
   "source": [
    "print(\"~~~~~~~~~~~~~~~~~~~~~~~ Here comes the longform giggles\")\n",
    "print()\n",
    "print()\n",
    "for i in range(5):\n",
    "    print(text_model.make_sentence())\n",
    "    print()"
   ]
  },
  {
   "cell_type": "markdown",
   "metadata": {},
   "source": [
    "### What just went down? \n",
    "- markov chains are a fairly common way to model out changes between states. If it's raining today, what's the likelihood that it will be sunny tomorrow? \n",
    "- We start with a probability matrix. If it's sunny today, what's the likelihood it will be sunny tomorrow? What's the likelihood it will rain tomorrow? We do this for all relevant states. In a universe with only two states (rainy or sunny), that could look like this:"
   ]
  },
  {
   "cell_type": "markdown",
   "metadata": {},
   "source": [
    "<table style=\"width:50%\">\n",
    "  <tr>\n",
    "    <th></th>\n",
    "    <th>sunny</th>\n",
    "    <th>rain</th>\n",
    "  </tr>\n",
    "  <tr>\n",
    "    <td><strong>sunny</strong></td>\n",
    "    <td>0.80</td>\n",
    "    <td>0.20</td>\n",
    "  </tr>\n",
    "  <tr>\n",
    "      <td><strong>rain</strong></td>\n",
    "    <td>0.30</td>\n",
    "    <td>0.70</td>\n",
    "  </tr>\n",
    "</table>"
   ]
  },
  {
   "cell_type": "markdown",
   "metadata": {},
   "source": [
    "- A Markov chain will take this information about what's likely to happen next given the current condition, and generate a cycle of successive changes between states.\n",
    "\n",
    "\n",
    "- Markovify is a significantly higher dimension implementation of this state transition simulation. Given the word that was just picked, what's the most likely next word? Let's make a jumbly sentence with it!\n",
    "\n",
    "### Learn more:\n",
    "- Getting your toes wet: [Introduction to Markov Chains - Towards Data Science](https://towardsdatascience.com/introduction-to-markov-chains-50da3645a50d)\n",
    "- [A visual introduction](https://setosa.io/ev/markov-chains/) to Markov Chains\n",
    "- Checkout the [Markovify docs](https://github.com/jsvine/markovify) to explore the full functionality of this library & get creative! "
   ]
  }
 ],
 "metadata": {
  "kernelspec": {
   "display_name": "Python 3",
   "language": "python",
   "name": "python3"
  },
  "language_info": {
   "codemirror_mode": {
    "name": "ipython",
    "version": 3
   },
   "file_extension": ".py",
   "mimetype": "text/x-python",
   "name": "python",
   "nbconvert_exporter": "python",
   "pygments_lexer": "ipython3",
   "version": "3.7.3"
  }
 },
 "nbformat": 4,
 "nbformat_minor": 4
}
